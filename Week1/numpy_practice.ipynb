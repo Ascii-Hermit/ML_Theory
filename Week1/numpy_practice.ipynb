{
 "cells": [
  {
   "cell_type": "code",
   "execution_count": 2,
   "id": "173acd0b",
   "metadata": {},
   "outputs": [],
   "source": [
    "import numpy as np"
   ]
  },
  {
   "cell_type": "markdown",
   "id": "43172916",
   "metadata": {},
   "source": [
    "### The important functions are as follows"
   ]
  },
  {
   "cell_type": "code",
   "execution_count": 39,
   "id": "b4e5c29d",
   "metadata": {},
   "outputs": [
    {
     "name": "stdout",
     "output_type": "stream",
     "text": [
      "[[1.5 2.  3. ]\n",
      " [4.  5.  6. ]]\n",
      "[[1.5+0.j 2. +0.j 3. +0.j]\n",
      " [4. +0.j 5. +0.j 6. +0.j]]\n"
     ]
    }
   ],
   "source": [
    "a = np.array([(1.5, 2, 3), [4, 5, 6]]) # to make an array with custom input\n",
    "print(a)                               # the brackets dont matter '(' and '[' are same\n",
    "\n",
    "# the data type of the elements can be specified at creation by the dtype attribute\n",
    "# to use python data type just type int or float, etc\n",
    "# to use numpy data type use np.int64 , etc\n",
    "a = np.array([(1.5, 2, 3), [4, 5, 6]], dtype = np.complex64)  \n",
    "print(a) "
   ]
  },
  {
   "cell_type": "code",
   "execution_count": null,
   "id": "a15de289",
   "metadata": {},
   "outputs": [],
   "source": [
    "#NUMPY ARRAYS CAN BE SLICED LIKE REGULAR ARRAYS\n",
    "a = np.arange(9).reshape(3,3)\n",
    "a[::1] \n",
    "\n",
    "#FOR ACCESSING COLUMNS MAKE THE END INDEX ','\n",
    "a = np.arange(9).reshape(3,3)\n",
    "a[:,:1] "
   ]
  },
  {
   "cell_type": "code",
   "execution_count": 30,
   "id": "0ef651ff",
   "metadata": {},
   "outputs": [
    {
     "name": "stdout",
     "output_type": "stream",
     "text": [
      "[0 1 2 3 4 5 6 7 8]\n"
     ]
    }
   ],
   "source": [
    "a = np.arange(0,9,1) # makes a 1d array of integers in range (0,10)\n",
    "print(a)              # can be modified with start and end and step \n"
   ]
  },
  {
   "cell_type": "code",
   "execution_count": 41,
   "id": "c46c9543",
   "metadata": {},
   "outputs": [
    {
     "name": "stdout",
     "output_type": "stream",
     "text": [
      "[0.  4.5 9. ]\n"
     ]
    }
   ],
   "source": [
    "# a better alternative of arange function is the linspace\n",
    "# returns an array of floats including the start and end indexes of 3 elements\n",
    "# with equal spacing\n",
    "print(np.linspace(0,9,3)) "
   ]
  },
  {
   "cell_type": "code",
   "execution_count": 47,
   "id": "b4553106",
   "metadata": {},
   "outputs": [
    {
     "data": {
      "text/plain": [
       "array([[[0., 0., 0., 0., 0.],\n",
       "        [0., 0., 0., 0., 0.],\n",
       "        [0., 0., 0., 0., 0.]],\n",
       "\n",
       "       [[0., 0., 0., 0., 0.],\n",
       "        [0., 0., 0., 0., 0.],\n",
       "        [0., 0., 0., 0., 0.]]])"
      ]
     },
     "execution_count": 47,
     "metadata": {},
     "output_type": "execute_result"
    }
   ],
   "source": [
    "#used to create and array of zeros\n",
    "# we define the size of the array inside the fuction\n",
    "np.zeros((2,3,5)) # VALUES MUST BE PASSED AS A TUPLE"
   ]
  },
  {
   "cell_type": "code",
   "execution_count": 46,
   "id": "805df7cd",
   "metadata": {},
   "outputs": [
    {
     "name": "stdout",
     "output_type": "stream",
     "text": [
      "[[[1. 1. 1. 1. 1.]\n",
      "  [1. 1. 1. 1. 1.]\n",
      "  [1. 1. 1. 1. 1.]]\n",
      "\n",
      " [[1. 1. 1. 1. 1.]\n",
      "  [1. 1. 1. 1. 1.]\n",
      "  [1. 1. 1. 1. 1.]]]\n"
     ]
    }
   ],
   "source": [
    "#used to create and array of ones\n",
    "# we define the size of the array inside the fuction\n",
    "np.ones((2,3,5)) # VALUES MUST BE PASSED AS A TUPLE"
   ]
  },
  {
   "cell_type": "code",
   "execution_count": 18,
   "id": "b1077d32",
   "metadata": {},
   "outputs": [
    {
     "data": {
      "text/plain": [
       "(9,)"
      ]
     },
     "execution_count": 18,
     "metadata": {},
     "output_type": "execute_result"
    }
   ],
   "source": [
    "a.shape # tells the size of the array, not to be confused with the .reshape(a,b) function"
   ]
  },
  {
   "cell_type": "code",
   "execution_count": 19,
   "id": "2220e42e",
   "metadata": {},
   "outputs": [
    {
     "data": {
      "text/plain": [
       "1"
      ]
     },
     "execution_count": 19,
     "metadata": {},
     "output_type": "execute_result"
    }
   ],
   "source": [
    "a.ndim # only tells the number of dimensions"
   ]
  },
  {
   "cell_type": "code",
   "execution_count": 20,
   "id": "c9edd487",
   "metadata": {},
   "outputs": [
    {
     "data": {
      "text/plain": [
       "9"
      ]
     },
     "execution_count": 20,
     "metadata": {},
     "output_type": "execute_result"
    }
   ],
   "source": [
    "a.size #similar to the length functions gives the number of elements"
   ]
  },
  {
   "cell_type": "code",
   "execution_count": 21,
   "id": "98ea07a2",
   "metadata": {},
   "outputs": [
    {
     "name": "stdout",
     "output_type": "stream",
     "text": [
      "[[0 1 2]\n",
      " [3 4 5]\n",
      " [6 7 8]]\n"
     ]
    }
   ],
   "source": [
    "a = a.reshape(3,3) # can change the size and the dimension of the array\n",
    "print(a)           # will give error if the number of elements is off"
   ]
  },
  {
   "cell_type": "code",
   "execution_count": 24,
   "id": "81776c33",
   "metadata": {},
   "outputs": [
    {
     "data": {
      "text/plain": [
       "'int64'"
      ]
     },
     "execution_count": 24,
     "metadata": {},
     "output_type": "execute_result"
    }
   ],
   "source": [
    "a.dtype.name # gives the data type of the element\n",
    "             # use .name to extract the string with the info of the data type\n"
   ]
  },
  {
   "cell_type": "markdown",
   "id": "fd82ba70",
   "metadata": {},
   "source": [
    "### Lab Questions"
   ]
  },
  {
   "cell_type": "code",
   "execution_count": 49,
   "id": "db582eab",
   "metadata": {},
   "outputs": [
    {
     "data": {
      "text/plain": [
       "array([[0, 1, 2],\n",
       "       [3, 4, 5],\n",
       "       [6, 7, 8]])"
      ]
     },
     "execution_count": 49,
     "metadata": {},
     "output_type": "execute_result"
    }
   ],
   "source": [
    "'''\n",
    "1. Convert a 1-D array into a 2-D array with 3 rows.\n",
    "Start with:\n",
    "Assign-1 = np.array([0, 1, 2, 3, 4, 5, 6, 7, 8])\n",
    "Desired output:\n",
    "[[ 0, 1, 2]\n",
    "[3, 4, 5]\n",
    "[6, 7, 8]]\n",
    "'''\n",
    "a = np.arange(9)\n",
    "a.reshape(3,3)"
   ]
  },
  {
   "cell_type": "code",
   "execution_count": 64,
   "id": "26b27346",
   "metadata": {},
   "outputs": [
    {
     "name": "stdout",
     "output_type": "stream",
     "text": [
      "[0 1 2 3 4 5 6 7 8 9]\n",
      "[ 0 -1  2 -1  4 -1  6 -1  8 -1]\n"
     ]
    }
   ],
   "source": [
    "'''\n",
    "2. Replace all odd numbers in the given array with -1\n",
    "Start with:\n",
    "Assign-2 = np.array([0, 1, 2, 3, 4, 5, 6, 7, 8, 9])\n",
    "Desired output:\n",
    "[ 0, -1, 2, -1, 4, -1, 6, -1, 8, -1]\n",
    "'''\n",
    "\n",
    "a = np.arange(10)\n",
    "print(a)\n",
    "\n",
    "# print(np.mod(a,2)!=0) this function returns an array of boolean values satisfing the condtion\n",
    "\n",
    "a[np.mod(a,2) != 0] = -1 # for all values that are odd, -1 will be replaced\n",
    "# a[a%2!=0] = -1 will give the same output\n",
    "print(a)"
   ]
  },
  {
   "cell_type": "code",
   "execution_count": 4,
   "id": "2564f352",
   "metadata": {},
   "outputs": [
    {
     "name": "stdout",
     "output_type": "stream",
     "text": [
      "(array([6, 7], dtype=int64),)\n",
      "(array([2], dtype=int64),)\n"
     ]
    }
   ],
   "source": [
    "'''\n",
    "3. Find the positions of:\n",
    "\n",
    "elements in x where its value is more than its corresponding element in y, and \n",
    "elements in x where its value is equals to its corresponding element in y.\n",
    "\n",
    "Start with these:\n",
    "x = np.array([21, 64, 86, 22, 74, 55, 81, 79, 90, 89]) \n",
    "y = np.array([21, 7, 3, 45, 10, 29, 55, 4, 37, 18])\n",
    "\n",
    "Desired output:\n",
    "(array([1, 2, 4, 5, 6, 7, 8, 9]),) and (array([0]),)\n",
    "'''\n",
    "x = np.array([1, 2, 3, 4, 5, 6, 7, 8, 9])\n",
    "y = np.array([21, 7, 3, 45, 10, 29, 1, 4, 37])\n",
    " \n",
    "# we can use comparison operators in numpy which will compare with each element and return an array\n",
    "# DO CHECK THE RESULT WITH THE USE OF RESHAPE\n",
    "\n",
    "    \n",
    "print(np.where(x > y))\n",
    "print(np.where(x == y))"
   ]
  },
  {
   "cell_type": "code",
   "execution_count": 8,
   "id": "4a2b5e9b",
   "metadata": {},
   "outputs": [
    {
     "name": "stdout",
     "output_type": "stream",
     "text": [
      "[[ 0  1  2  3  4  5  6  7  8  9 10 11 12 13 14 15 16 17 18 19]\n",
      " [20 21 22 23 24 25 26 27 28 29 30 31 32 33 34 35 36 37 38 39]\n",
      " [40 41 42 43 44 45 46 47 48 49 50 51 52 53 54 55 56 57 58 59]\n",
      " [60 61 62 63 64 65 66 67 68 69 70 71 72 73 74 75 76 77 78 79]\n",
      " [80 81 82 83 84 85 86 87 88 89 90 91 92 93 94 95 96 97 98 99]]\n"
     ]
    },
    {
     "data": {
      "text/plain": [
       "array([[ 0,  1,  2,  3],\n",
       "       [20, 21, 22, 23],\n",
       "       [40, 41, 42, 43]])"
      ]
     },
     "execution_count": 8,
     "metadata": {},
     "output_type": "execute_result"
    }
   ],
   "source": [
    "'''\n",
    "4. Extract the first four columns of this 2-D array.\n",
    "Start with this: \n",
    "Assign-4= np.arange(100).reshape(5,-1)\n",
    " \n",
    "Desired output:\n",
    "[[ 0 1 2 3]\n",
    "[20 21 22 23]\n",
    "[40 41 42 43]\n",
    "[60 61 62 63]\n",
    "[80 81 82 83]]\n",
    "'''\n",
    "\n",
    "a = np.arange(100).reshape(5,-1) # -1 is used as a placeholder to calculate the columsn based on the length of the array \n",
    "print(a)\n",
    "a[:, 0 : 4] "
   ]
  },
  {
   "cell_type": "markdown",
   "id": "adf2731e",
   "metadata": {},
   "source": [
    "### Additional Questions"
   ]
  },
  {
   "cell_type": "code",
   "execution_count": 90,
   "id": "8062ae45",
   "metadata": {},
   "outputs": [
    {
     "data": {
      "text/plain": [
       "array([33, 37, 35, 33, 31, 32, 31, 38, 36, 32])"
      ]
     },
     "execution_count": 90,
     "metadata": {},
     "output_type": "execute_result"
    }
   ],
   "source": [
    "'''\n",
    "1. Generate a 1-D array of 10 random integers. Each integer should be a number between 30 and 40 (inclusive).\n",
    "Sample of desired output:\n",
    "[36, 30, 36, 38, 31, 35, 36, 30, 32, 34]\n",
    "'''\n",
    "x = np.random.randint(low=30, high=40, size=10)\n",
    "x"
   ]
  },
  {
   "cell_type": "code",
   "execution_count": 113,
   "id": "50f76679",
   "metadata": {},
   "outputs": [
    {
     "name": "stdout",
     "output_type": "stream",
     "text": [
      "[[ 8 10 12]\n",
      " [ 8 10 13]\n",
      " [ 8 10 13]]\n",
      "[[ 8  8  8]\n",
      " [10 10 10]\n",
      " [12 13 13]]\n"
     ]
    }
   ],
   "source": [
    "'''\n",
    "2. Consider the following matrices :\n",
    "A= ((1, 2, 3), (4, 5, 6), (7, 8, 10)) and   B = ((7, 8, 10) ,(4, 5, 6), (1, 2, 3))\n",
    "Write a python program to perform the following using Numeric Python (numpy).\n",
    "i) Add and Subtract of the Matrix A and B, print the resultant matrix C for add and E for subtract.\n",
    "ii) Compute the sum of all elements of Matrix A, sum of each column of Matrix B and sum of each row of Matrix C\n",
    "iii) Product of two matrices A and B, and print the resultant matrix D\n",
    "iv) Sort the elements of resultant matrix C and print the resultant Matrix E.                           \n",
    "v) Transpose the Matrix E and print the result\n",
    "\n",
    "'''\n",
    "a = np.array(((1, 2, 3), (4, 5, 6), (7, 8, 10)))\n",
    "b = np.array(((7, 8, 10) ,(4, 5, 6), (1, 2, 3)))\n",
    "\n",
    "\n",
    "#2 i\n",
    "c=a+b\n",
    "e=a-b\n",
    "print(c)\n",
    "print(e)\n",
    "\n",
    "#2 ii\n",
    "print(a.sum())\n",
    "print(b.sum(axis = 0)) # axis 0 is for columns in the sum() function\n",
    "print(c.sum(axis = 1)) # axis 1 is for rows in the sum() function\n",
    "\n",
    "#2 iii\n",
    "d = np.dot(a,b)\n",
    "print(d)\n",
    "\n",
    "#2 iv\n",
    "e = np.sort(c, axis = 0) # axis can also be specified\n",
    "print(e)\n",
    "\n",
    "#2 v\n",
    "print(np.transpose(e))"
   ]
  }
 ],
 "metadata": {
  "kernelspec": {
   "display_name": "Python 3 (ipykernel)",
   "language": "python",
   "name": "python3"
  },
  "language_info": {
   "codemirror_mode": {
    "name": "ipython",
    "version": 3
   },
   "file_extension": ".py",
   "mimetype": "text/x-python",
   "name": "python",
   "nbconvert_exporter": "python",
   "pygments_lexer": "ipython3",
   "version": "3.12.1"
  }
 },
 "nbformat": 4,
 "nbformat_minor": 5
}
